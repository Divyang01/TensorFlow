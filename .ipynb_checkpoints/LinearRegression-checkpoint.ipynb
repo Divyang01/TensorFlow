{
 "cells": [
  {
   "cell_type": "code",
   "execution_count": 2,
   "metadata": {},
   "outputs": [
    {
     "data": {
      "text/plain": [
       "array([ 0.62300161,  2.18230016,  1.76968081,  3.06089093,  3.03863379,\n",
       "        5.87469839,  7.88287948,  8.32889315, 10.10218467, 10.3920085 ])"
      ]
     },
     "execution_count": 2,
     "metadata": {},
     "output_type": "execute_result"
    }
   ],
   "source": [
    "import tensorflow as tf\n",
    "import numpy as np\n",
    "\n",
    "# y = M*x + b Linear equation\n",
    "\n",
    "x_data = np.linspace(0,10,10) + np.random.uniform(-1.5,1.5,10)\n",
    "x_data"
   ]
  },
  {
   "cell_type": "code",
   "execution_count": 5,
   "metadata": {},
   "outputs": [
    {
     "data": {
      "text/plain": [
       "array([-1.352242  ,  0.33649001,  2.6414025 ,  4.4892449 ,  5.63085275,\n",
       "        5.81623311,  5.70418757,  7.36870639,  7.56614215, 10.14280382])"
      ]
     },
     "execution_count": 5,
     "metadata": {},
     "output_type": "execute_result"
    }
   ],
   "source": [
    "y_lable = np.linspace(0,10,10) + np.random.uniform(-1.5,1.5,10)\n",
    "y_lable"
   ]
  },
  {
   "cell_type": "code",
   "execution_count": 8,
   "metadata": {},
   "outputs": [
    {
     "data": {
      "text/plain": [
       "[<matplotlib.lines.Line2D at 0x7f77cbe23128>]"
      ]
     },
     "execution_count": 8,
     "metadata": {},
     "output_type": "execute_result"
    },
    {
     "data": {
      "image/png": "[encoded data removed]",
      "text/plain": [
       "<Figure size 432x288 with 1 Axes>"
      ]
     },
     "metadata": {
      "needs_background": "light"
     },
     "output_type": "display_data"
    }
   ],
   "source": [
    "import matplotlib.pyplot as plt\n",
    "plt.plot(x_data,y_lable,\"*\")"
   ]
  },
  {
   "cell_type": "code",
   "execution_count": 18,
   "metadata": {},
   "outputs": [
    {
     "data": {
      "text/plain": [
       "[<matplotlib.lines.Line2D at 0x7f77c033f080>]"
      ]
     },
     "execution_count": 18,
     "metadata": {},
     "output_type": "execute_result"
    },
    {
     "data": {
      "image/png": "[encoded data removed]",
      "text/plain": [
       "<Figure size 432x288 with 1 Axes>"
      ]
     },
     "metadata": {
      "needs_background": "light"
     },
     "output_type": "display_data"
    }
   ],
   "source": [
    "np.random.rand(2)   #randomly generated value is used in m and b. \n",
    "m = tf.Variable(0.635)\n",
    "b = tf.Variable(0.980)\n",
    "\n",
    "error = 0\n",
    "for x,y in zip(x_data,y_lable):\n",
    "    y_predict = x*m + b    #predicted Value\n",
    "    error += (y-y_predict)**2   # error we want to minimize(cost function)\n",
    "    \n",
    "optimizer = tf.train.GradientDescentOptimizer(learning_rate=0.001)\n",
    "train = optimizer.minimize(error)\n",
    "\n",
    "init = tf.global_variables_initializer()\n",
    "\n",
    "with tf.Session() as sess:\n",
    "    sess.run(init)\n",
    "    \n",
    "    epoch = 100\n",
    "    for i in range(epoch):\n",
    "        final_slop,final_intercept = sess.run([m,b])\n",
    "x_test = np.linspace(0,11,10)\n",
    "y_predict = x_test*final_slop + final_intercept\n",
    "\n",
    "plt.plot(x_test,y_predict,\"r\")\n",
    "plt.plot(x_data,y_lable,\"*\")"
   ]
  }
 ],
 "metadata": {
  "kernelspec": {
   "display_name": "Python 3",
   "language": "python",
   "name": "python3"
  },
  "language_info": {
   "codemirror_mode": {
    "name": "ipython",
    "version": 3
   },
   "file_extension": ".py",
   "mimetype": "text/x-python",
   "name": "python",
   "nbconvert_exporter": "python",
   "pygments_lexer": "ipython3",
   "version": "3.6.8"
  }
 },
 "nbformat": 4,
 "nbformat_minor": 2
}
